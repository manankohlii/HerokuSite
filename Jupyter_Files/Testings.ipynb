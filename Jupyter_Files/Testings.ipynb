{
 "cells": [
  {
   "cell_type": "code",
   "execution_count": 1,
   "metadata": {},
   "outputs": [],
   "source": [
    "import cv2"
   ]
  },
  {
   "cell_type": "code",
   "execution_count": 4,
   "metadata": {},
   "outputs": [
    {
     "data": {
      "text/plain": [
       "array([[187, 158, 104, 121, 143],\n",
       "       [198, 125, 255, 255, 147],\n",
       "       [209, 134, 255,  97, 182]], dtype=uint8)"
      ]
     },
     "execution_count": 4,
     "metadata": {},
     "output_type": "execute_result"
    }
   ],
   "source": [
    "img1=cv2.imread(\"smallgray.png\",0)\n",
    "img1"
   ]
  },
  {
   "cell_type": "code",
   "execution_count": 1,
   "metadata": {},
   "outputs": [
    {
     "data": {
      "text/plain": [
       "['ArcGIS',\n",
       " 'AzureMaps',\n",
       " 'BANFrance',\n",
       " 'Baidu',\n",
       " 'Bing',\n",
       " 'DataBC',\n",
       " 'GeoNames',\n",
       " 'GeocodeEarth',\n",
       " 'GeocodeFarm',\n",
       " 'Geolake',\n",
       " 'GoogleV3',\n",
       " 'Here',\n",
       " 'IGNFrance',\n",
       " 'LiveAddress',\n",
       " 'Location',\n",
       " 'MapBox',\n",
       " 'Nominatim',\n",
       " 'OpenCage',\n",
       " 'OpenMapQuest',\n",
       " 'Pelias',\n",
       " 'Photon',\n",
       " 'PickPoint',\n",
       " 'Point',\n",
       " 'Timezone',\n",
       " 'TomTom',\n",
       " 'What3Words',\n",
       " 'Yandex',\n",
       " '__builtins__',\n",
       " '__cached__',\n",
       " '__doc__',\n",
       " '__file__',\n",
       " '__loader__',\n",
       " '__name__',\n",
       " '__package__',\n",
       " '__path__',\n",
       " '__spec__',\n",
       " '__version__',\n",
       " 'compat',\n",
       " 'exc',\n",
       " 'format',\n",
       " 'geocoders',\n",
       " 'get_geocoder_for_service',\n",
       " 'location',\n",
       " 'point',\n",
       " 'timezone',\n",
       " 'units',\n",
       " 'util']"
      ]
     },
     "execution_count": 1,
     "metadata": {},
     "output_type": "execute_result"
    }
   ],
   "source": [
    "import geopy\n",
    "dir(geopy)"
   ]
  },
  {
   "cell_type": "code",
   "execution_count": 4,
   "metadata": {},
   "outputs": [],
   "source": [
    "from geopy.geocoders import ArcGIS\n",
    "nom=ArcGIS()"
   ]
  },
  {
   "cell_type": "code",
   "execution_count": 6,
   "metadata": {},
   "outputs": [
    {
     "data": {
      "text/plain": [
       "geopy.location.Location"
      ]
     },
     "execution_count": 6,
     "metadata": {},
     "output_type": "execute_result"
    }
   ],
   "source": [
    "n=nom.geocode(\"Delhi 110085\")\n",
    "type(n)"
   ]
  },
  {
   "cell_type": "code",
   "execution_count": 1,
   "metadata": {},
   "outputs": [
    {
     "ename": "SyntaxError",
     "evalue": "invalid syntax (<ipython-input-1-948930e54a4a>, line 1)",
     "output_type": "error",
     "traceback": [
      "\u001b[1;36m  File \u001b[1;32m\"<ipython-input-1-948930e54a4a>\"\u001b[1;36m, line \u001b[1;32m1\u001b[0m\n\u001b[1;33m    numbers=[1:100]\u001b[0m\n\u001b[1;37m              ^\u001b[0m\n\u001b[1;31mSyntaxError\u001b[0m\u001b[1;31m:\u001b[0m invalid syntax\n"
     ]
    }
   ],
   "source": []
  },
  {
   "cell_type": "code",
   "execution_count": null,
   "metadata": {},
   "outputs": [],
   "source": []
  }
 ],
 "metadata": {
  "kernelspec": {
   "display_name": "Python 3",
   "language": "python",
   "name": "python3"
  },
  "language_info": {
   "codemirror_mode": {
    "name": "ipython",
    "version": 3
   },
   "file_extension": ".py",
   "mimetype": "text/x-python",
   "name": "python",
   "nbconvert_exporter": "python",
   "pygments_lexer": "ipython3",
   "version": "3.7.4"
  }
 },
 "nbformat": 4,
 "nbformat_minor": 2
}
